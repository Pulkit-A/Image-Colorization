{
  "nbformat": 4,
  "nbformat_minor": 0,
  "metadata": {
    "accelerator": "GPU",
    "colab": {
      "name": "Model_IC.ipynb",
      "provenance": [],
      "collapsed_sections": []
    },
    "kernelspec": {
      "display_name": "Python 3",
      "name": "python3"
    }
  },
  "cells": [
    {
      "cell_type": "code",
      "metadata": {
        "id": "JTjQS5l6U_hk"
      },
      "source": [
        "import tensorflow as tf\n",
        "import keras\n",
        "from keras import backend as k\n",
        "from tensorflow.keras.preprocessing.image import ImageDataGenerator, img_to_array, load_img\n",
        "from skimage.color import rgb2lab, lab2rgb, rgb2gray, gray2rgb \n",
        "from skimage.transform import resize\n",
        "from skimage import io, color\n",
        "import numpy as np\n",
        "import os\n",
        "import random\n",
        "import shutil\n",
        "import random\n",
        "import glob\n",
        "from google.colab import drive\n",
        "from tensorflow import keras\n",
        "from tensorflow.keras.models import Sequential, Model\n",
        "from tensorflow.keras.layers import Conv2D, BatchNormalization, UpSampling2D\n",
        "from tensorflow.keras.optimizers import Adam\n",
        "from tensorflow.keras.preprocessing import image\n",
        "from matplotlib import pyplot as plt"
      ],
      "execution_count": null,
      "outputs": []
    },
    {
      "cell_type": "code",
      "metadata": {
        "colab": {
          "base_uri": "https://localhost:8080/"
        },
        "id": "BGboDhzZVylC",
        "outputId": "d0c330cc-b3dc-426e-94d3-e1922b969788"
      },
      "source": [
        "drive.mount('content/') "
      ],
      "execution_count": null,
      "outputs": [
        {
          "output_type": "stream",
          "text": [
            "Mounted at content/\n"
          ],
          "name": "stdout"
        }
      ]
    },
    {
      "cell_type": "code",
      "metadata": {
        "id": "HfzvDdjV1HXp"
      },
      "source": [
        "!unzip \"/content/content/My Drive/Colab Notebooks/image-coloring-dataset.zip\" -d \"/content/trainingdata/\""
      ],
      "execution_count": null,
      "outputs": []
    },
    {
      "cell_type": "code",
      "metadata": {
        "colab": {
          "base_uri": "https://localhost:8080/"
        },
        "id": "VmnwOSL21LOe",
        "outputId": "83a72e9b-48e9-4d49-9563-97c62edc09ff"
      },
      "source": [
        "!pwd"
      ],
      "execution_count": null,
      "outputs": [
        {
          "output_type": "stream",
          "text": [
            "/content\n"
          ],
          "name": "stdout"
        }
      ]
    },
    {
      "cell_type": "code",
      "metadata": {
        "id": "zkQpvrhJ2Ow5",
        "colab": {
          "base_uri": "https://localhost:8080/"
        },
        "outputId": "cce95e7d-f8df-4e71-ef56-02d03a6998ac"
      },
      "source": [
        "cd /content/trainingdata/image-coloring-dataset/"
      ],
      "execution_count": null,
      "outputs": [
        {
          "output_type": "stream",
          "text": [
            "/content/trainingdata/image-coloring-dataset\n"
          ],
          "name": "stdout"
        }
      ]
    },
    {
      "cell_type": "code",
      "metadata": {
        "id": "-4Dq6LSK2Rn7"
      },
      "source": [
        "os.makedirs('train')\n",
        "os.makedirs('test')\n",
        "\n",
        "for c in random.sample(glob.glob('*.*'), 11000):\n",
        "  shutil.move(c,'train')\n",
        "\n",
        "for c in random.sample(glob.glob('*.*'), 944):\n",
        "  shutil.move(c,'test')\n"
      ],
      "execution_count": null,
      "outputs": []
    },
    {
      "cell_type": "code",
      "metadata": {
        "colab": {
          "base_uri": "https://localhost:8080/"
        },
        "id": "hmwQgD8Y2eU1",
        "outputId": "14f146a0-3e24-4f51-e43d-9281f96ba9b2"
      },
      "source": [
        "cd /content/trainingdata/image-coloring-dataset/train/"
      ],
      "execution_count": null,
      "outputs": [
        {
          "output_type": "stream",
          "text": [
            "/content/trainingdata/image-coloring-dataset/train\n"
          ],
          "name": "stdout"
        }
      ]
    },
    {
      "cell_type": "code",
      "metadata": {
        "id": "FhRoQRiE5jWF"
      },
      "source": [
        "os.makedirs('t1')                                 \n",
        "os.makedirs('t2')\n",
        "os.makedirs('t3')\n",
        "os.makedirs('t4')\n",
        "os.makedirs('t5')\n",
        "os.makedirs('t6')\n",
        "os.makedirs('t7')\n",
        "os.makedirs('t8')\n",
        "os.makedirs('t9')\n",
        "os.makedirs('t10')\n",
        "os.makedirs('t11')"
      ],
      "execution_count": null,
      "outputs": []
    },
    {
      "cell_type": "code",
      "metadata": {
        "id": "SqWjo-8RoT0y"
      },
      "source": [
        "for c in random.sample(glob.glob('*.*'), 1000):            #dividing train data to 11 folders\n",
        "  shutil.move(c,'t1')\n",
        "\n",
        "for c in random.sample(glob.glob('*.*'), 1000):\n",
        "  shutil.move(c,'t2')\n",
        "\n",
        "for c in random.sample(glob.glob('*.*'), 1000):\n",
        "  shutil.move(c,'t3')\n",
        "\n",
        "for c in random.sample(glob.glob('*.*'), 1000):\n",
        "  shutil.move(c,'t4')\n",
        "\n",
        "for c in random.sample(glob.glob('*.*'), 1000):\n",
        "  shutil.move(c,'t5')\n",
        "\n",
        "for c in random.sample(glob.glob('*.*'), 1000):\n",
        "  shutil.move(c,'t6')\n",
        "\n",
        "for c in random.sample(glob.glob('*.*'), 1000):\n",
        "  shutil.move(c,'t7')\n",
        "\n",
        "for c in random.sample(glob.glob('*.*'), 1000):\n",
        "  shutil.move(c,'t8')\n",
        "\n",
        "for c in random.sample(glob.glob('*.*'), 1000):\n",
        "  shutil.move(c,'t9')\n",
        "\n",
        "for c in random.sample(glob.glob('*.*'), 1000):\n",
        "  shutil.move(c,'t10')\n",
        "\n",
        "for c in random.sample(glob.glob('*.*'), 1000):\n",
        "  shutil.move(c,'t11')"
      ],
      "execution_count": null,
      "outputs": []
    },
    {
      "cell_type": "code",
      "metadata": {
        "colab": {
          "base_uri": "https://localhost:8080/"
        },
        "id": "oWOGCq9-js-h",
        "outputId": "b3380147-a95b-46ff-83c4-ecee2780ea3f"
      },
      "source": [
        "cd /content/trainingdata/image-coloring-dataset/train/t1"
      ],
      "execution_count": null,
      "outputs": [
        {
          "output_type": "stream",
          "text": [
            "/content/trainingdata/image-coloring-dataset/train/t1\n"
          ],
          "name": "stdout"
        }
      ]
    },
    {
      "cell_type": "code",
      "metadata": {
        "id": "KX5IDwXQj7TD"
      },
      "source": [
        "os.makedirs('img')\n",
        "\n",
        "for c in random.sample(glob.glob('*.*'), 1000):\n",
        "  shutil.move(c,'img')"
      ],
      "execution_count": null,
      "outputs": []
    },
    {
      "cell_type": "code",
      "metadata": {
        "colab": {
          "base_uri": "https://localhost:8080/"
        },
        "id": "Pif6CfNax_vr",
        "outputId": "ad73450f-a9de-4ccf-d56a-1032d84e4618"
      },
      "source": [
        "cd /content/trainingdata/image-coloring-dataset/train/"
      ],
      "execution_count": null,
      "outputs": [
        {
          "output_type": "stream",
          "text": [
            "/content/trainingdata/image-coloring-dataset/train\n"
          ],
          "name": "stdout"
        }
      ]
    },
    {
      "cell_type": "code",
      "metadata": {
        "id": "vwdy-lGspB0e"
      },
      "source": [
        "path = 't1/'                  #manual selection of folder"
      ],
      "execution_count": null,
      "outputs": []
    },
    {
      "cell_type": "code",
      "metadata": {
        "id": "_N70c7X7pMMQ"
      },
      "source": [
        "train_datagen = ImageDataGenerator(rescale= 1. / 255)"
      ],
      "execution_count": null,
      "outputs": []
    },
    {
      "cell_type": "code",
      "metadata": {
        "id": "kAIXptbNvvL8",
        "colab": {
          "base_uri": "https://localhost:8080/"
        },
        "outputId": "b8b694bb-3392-482e-ee2c-b38446ad8c72"
      },
      "source": [
        "train = train_datagen.flow_from_directory(path, target_size=(256,256), batch_size = 1000, class_mode=None)"
      ],
      "execution_count": null,
      "outputs": [
        {
          "output_type": "stream",
          "text": [
            "Found 1000 images belonging to 1 classes.\n"
          ],
          "name": "stdout"
        }
      ]
    },
    {
      "cell_type": "code",
      "metadata": {
        "id": "W1nrxPntsMxB"
      },
      "source": [
        "X_t = []\n",
        "Y_t = []"
      ],
      "execution_count": null,
      "outputs": []
    },
    {
      "cell_type": "code",
      "metadata": {
        "id": "llNTYfDixR1n"
      },
      "source": [
        "def PrepInput():                    #preprocess data\n",
        "  X = []\n",
        "  Y = []\n",
        "  for img in train[0]:\n",
        "    try:\n",
        "      lab = rgb2lab(img)\n",
        "      X.append(lab[:,:,0])\n",
        "      Y.append(lab[:,:,1:]/128)\n",
        "    except:\n",
        "      print('error')\n",
        "  X = np.array(X)\n",
        "  Y = np.array(Y)\n",
        "  X = X.reshape(X.shape+(1,))\n",
        "  print(X.shape)\n",
        "  print(Y.shape)\n",
        "  return X,Y"
      ],
      "execution_count": null,
      "outputs": []
    },
    {
      "cell_type": "code",
      "metadata": {
        "colab": {
          "base_uri": "https://localhost:8080/"
        },
        "id": "kSEiDtJytCcE",
        "outputId": "7d7bfe70-a1b1-4d2e-ce54-fc6debf78cc3"
      },
      "source": [
        "X_t, Y_t = PrepInput()"
      ],
      "execution_count": null,
      "outputs": [
        {
          "output_type": "stream",
          "text": [
            "(1000, 256, 256, 1)\n",
            "(1000, 256, 256, 2)\n"
          ],
          "name": "stdout"
        }
      ]
    },
    {
      "cell_type": "code",
      "metadata": {
        "id": "z8xicSOMINln"
      },
      "source": [
        "#model = keras.models.load_model('/content/trainingdata/image-coloring-dataset/train/imgcol.h5')  #for loading weights of last training"
      ],
      "execution_count": null,
      "outputs": []
    },
    {
      "cell_type": "markdown",
      "metadata": {
        "id": "sHjKJlKOdtd2"
      },
      "source": [
        "# **Model**"
      ]
    },
    {
      "cell_type": "code",
      "metadata": {
        "id": "04KWK1hXzX_q"
      },
      "source": [
        "model = Sequential()\n",
        "model.add(Conv2D(64, (3,3), activation ='relu', padding='same', strides=2, input_shape=(256, 256, 1)))\n",
        "model.add(Conv2D(128, (3,3), activation ='relu', padding='same'))\n",
        "model.add(Conv2D(128, (3,3), activation ='relu', padding='same', strides=2))\n",
        "model.add(Conv2D(256, (3,3), activation ='relu', padding='same'))\n",
        "model.add(Conv2D(256, (3,3), activation ='relu', padding='same', strides=2))\n",
        "model.add(Conv2D(512, (3,3), activation ='relu', padding='same'))\n",
        "model.add(Conv2D(512, (3,3), activation ='relu', padding='same'))\n",
        "model.add(Conv2D(256, (3,3), activation ='relu', padding='same'))\n",
        "\n",
        "model.add(Conv2D(128, (3,3), activation ='relu', padding='same'))\n",
        "model.add(UpSampling2D((2,2)))\n",
        "model.add(Conv2D(64, (3,3), activation ='relu', padding='same'))\n",
        "model.add(UpSampling2D((2,2)))\n",
        "model.add(Conv2D(32, (3,3), activation ='relu', padding='same'))\n",
        "model.add(Conv2D(16, (3,3), activation ='relu', padding='same'))\n",
        "model.add(Conv2D(2, (3,3), activation ='tanh', padding='same'))\n",
        "model.add(UpSampling2D((2,2)))"
      ],
      "execution_count": null,
      "outputs": []
    },
    {
      "cell_type": "code",
      "metadata": {
        "id": "XPIh7uRzfWPk",
        "colab": {
          "base_uri": "https://localhost:8080/"
        },
        "outputId": "6a325b71-1773-4609-a1bd-2e231ce17642"
      },
      "source": [
        "model.compile(optimizer='adam', loss='mse', metrics=['accuracy'])\n",
        "model.summary()"
      ],
      "execution_count": null,
      "outputs": [
        {
          "output_type": "stream",
          "text": [
            "Model: \"sequential\"\n",
            "_________________________________________________________________\n",
            "Layer (type)                 Output Shape              Param #   \n",
            "=================================================================\n",
            "conv2d (Conv2D)              (None, 128, 128, 64)      640       \n",
            "_________________________________________________________________\n",
            "conv2d_1 (Conv2D)            (None, 128, 128, 128)     73856     \n",
            "_________________________________________________________________\n",
            "conv2d_2 (Conv2D)            (None, 64, 64, 128)       147584    \n",
            "_________________________________________________________________\n",
            "conv2d_3 (Conv2D)            (None, 64, 64, 256)       295168    \n",
            "_________________________________________________________________\n",
            "conv2d_4 (Conv2D)            (None, 32, 32, 256)       590080    \n",
            "_________________________________________________________________\n",
            "conv2d_5 (Conv2D)            (None, 32, 32, 512)       1180160   \n",
            "_________________________________________________________________\n",
            "conv2d_6 (Conv2D)            (None, 32, 32, 512)       2359808   \n",
            "_________________________________________________________________\n",
            "conv2d_7 (Conv2D)            (None, 32, 32, 256)       1179904   \n",
            "_________________________________________________________________\n",
            "conv2d_8 (Conv2D)            (None, 32, 32, 128)       295040    \n",
            "_________________________________________________________________\n",
            "up_sampling2d (UpSampling2D) (None, 64, 64, 128)       0         \n",
            "_________________________________________________________________\n",
            "conv2d_9 (Conv2D)            (None, 64, 64, 64)        73792     \n",
            "_________________________________________________________________\n",
            "up_sampling2d_1 (UpSampling2 (None, 128, 128, 64)      0         \n",
            "_________________________________________________________________\n",
            "conv2d_10 (Conv2D)           (None, 128, 128, 32)      18464     \n",
            "_________________________________________________________________\n",
            "conv2d_11 (Conv2D)           (None, 128, 128, 16)      4624      \n",
            "_________________________________________________________________\n",
            "conv2d_12 (Conv2D)           (None, 128, 128, 2)       290       \n",
            "_________________________________________________________________\n",
            "up_sampling2d_2 (UpSampling2 (None, 256, 256, 2)       0         \n",
            "=================================================================\n",
            "Total params: 6,219,410\n",
            "Trainable params: 6,219,410\n",
            "Non-trainable params: 0\n",
            "_________________________________________________________________\n"
          ],
          "name": "stdout"
        }
      ]
    },
    {
      "cell_type": "code",
      "metadata": {
        "id": "zlE5DtQdgYut"
      },
      "source": [
        "model.fit(X_t, Y_t, validation_split=0.1, epochs=100, batch_size=50, verbose=2)"
      ],
      "execution_count": null,
      "outputs": []
    },
    {
      "cell_type": "code",
      "metadata": {
        "id": "Tl-S1SbWqpJD"
      },
      "source": [
        "model.save('imgcol.h5')"
      ],
      "execution_count": null,
      "outputs": []
    },
    {
      "cell_type": "code",
      "metadata": {
        "colab": {
          "base_uri": "https://localhost:8080/"
        },
        "id": "T_aTVM-2Vpj5",
        "outputId": "93eb81ac-c7f8-4ea0-a52e-008a5fcf33c4"
      },
      "source": [
        "cd /content/trainingdata/image-coloring-dataset/"
      ],
      "execution_count": null,
      "outputs": [
        {
          "output_type": "stream",
          "text": [
            "/content/trainingdata/image-coloring-dataset\n"
          ],
          "name": "stdout"
        }
      ]
    },
    {
      "cell_type": "markdown",
      "metadata": {
        "id": "fvYuPs1wdNxY"
      },
      "source": [
        "# ***To test the model***"
      ]
    },
    {
      "cell_type": "code",
      "metadata": {
        "id": "rh2dNWnCSxLE"
      },
      "source": [
        "img1_color = []\n",
        "img1 = img_to_array(load_img('/content/trainingdata/image-coloring-dataset/test/1008.jpg'))    #img from test set\n",
        "img1 = resize(img1, (256, 256))\n",
        "img1_color.append(img1)\n",
        "img1_color = np.array(img1_color, dtype=float)\n",
        "img1_color = rgb2lab(1.0/255*img1_color)[:,:,:,0]\n",
        "img1_color = img1_color.reshape(img1_color.shape+(1,))\n",
        "output1 = model.predict(img1_color)\n",
        "output1 = output1*128\n",
        "result = np.zeros((256, 256, 3))\n",
        "result[:,:,0] = img1_color[0][:,:,0]\n",
        "result[:,:,1:] = output1[0]\n",
        "io.imshow(lab2rgb(result))"
      ],
      "execution_count": null,
      "outputs": []
    }
  ]
}